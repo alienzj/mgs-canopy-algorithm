{
 "metadata": {
  "name": "Bjorn Results Canopy Correlation"
 },
 "nbformat": 3,
 "nbformat_minor": 0,
 "worksheets": [
  {
   "cells": [
    {
     "cell_type": "code",
     "collapsed": false,
     "input": [
      "import sys\n",
      "from scipy import array\n",
      "from scipy.stats.stats import pearsonr\n",
      "from random import choice"
     ],
     "language": "python",
     "metadata": {},
     "outputs": [],
     "prompt_number": 34
    },
    {
     "cell_type": "code",
     "collapsed": false,
     "input": [
      "reference_results_file = \"/Users/piotr/Documents/projects/canopy_clustering/data/C2GU_sets.txt\"\n",
      "points_file = \"/Users/piotr/Documents/projects/canopy_clustering/data/DepthC2_dump.txt\"\n",
      "#points_file = \"/Users/piotr/Documents/projects/canopy_clustering/data/MetaHIT663.RefGeneCat396.basecov_v2\""
     ],
     "language": "python",
     "metadata": {},
     "outputs": [],
     "prompt_number": 35
    },
    {
     "cell_type": "code",
     "collapsed": false,
     "input": [
      "#Import reference results\n",
      "reference_results = {}\n",
      "\n",
      "for line in open(reference_results_file,\"r\").readlines():\n",
      "    words = line.strip().split()\n",
      "    canopy_num = words[0].split(\":\")[1]\n",
      "    gene_id = words[1]\n",
      "    reference_results.setdefault(canopy_num, set()).add(gene_id)\n",
      "    \n",
      "reference_results_arr = []\n",
      "for genes_set in reference_results.itervalues():\n",
      "    reference_results_arr.append(frozenset(genes_set))\n",
      "\n",
      "    "
     ],
     "language": "python",
     "metadata": {},
     "outputs": [],
     "prompt_number": 36
    },
    {
     "cell_type": "code",
     "collapsed": false,
     "input": [
      "some_random_bjorn_canopies = set()\n",
      "genes_from_some_random_bjorn_canopies = set()"
     ],
     "language": "python",
     "metadata": {},
     "outputs": [],
     "prompt_number": 37
    },
    {
     "cell_type": "code",
     "collapsed": false,
     "input": [
      "#Get The biggest canopy\n",
      "reference_results_arr = sorted(reference_results_arr, key=lambda x: len(x), reverse=True)\n",
      "canopy = reference_results_arr[0]\n",
      "some_random_bjorn_canopies.add(canopy)\n",
      "print \"Size of the biggest canopy: \" + str(len(canopy))\n",
      "\n",
      "for gene in canopy:\n",
      "    genes_from_some_random_bjorn_canopies.add(gene)\n",
      "        \n"
     ],
     "language": "python",
     "metadata": {},
     "outputs": [
      {
       "output_type": "stream",
       "stream": "stdout",
       "text": [
        "Size of the biggest canopy: 6319\n"
       ]
      }
     ],
     "prompt_number": 38
    },
    {
     "cell_type": "code",
     "collapsed": false,
     "input": [
      "len(some_random_bjorn_canopies)"
     ],
     "language": "python",
     "metadata": {},
     "outputs": [
      {
       "output_type": "pyout",
       "prompt_number": 39,
       "text": [
        "1"
       ]
      }
     ],
     "prompt_number": 39
    },
    {
     "cell_type": "code",
     "collapsed": false,
     "input": [
      "#Get X random canopies\n",
      "X = 1\n",
      "for x in range(X):\n",
      "    some_random_bjorn_canopies.add(choice(reference_results_arr))\n",
      "\n",
      "for canopy in some_random_bjorn_canopies:\n",
      "    for gene in canopy:\n",
      "        genes_from_some_random_bjorn_canopies.add(gene)"
     ],
     "language": "python",
     "metadata": {},
     "outputs": [],
     "prompt_number": 30
    },
    {
     "cell_type": "code",
     "collapsed": false,
     "input": [
      "#Read point sample data\n",
      "point_sample_data = {}\n",
      "\n",
      "for line in open(points_file,\"r\"):\n",
      "    words = line.strip().split()\n",
      "    if words[0] in genes_from_some_random_bjorn_canopies:\n",
      "        point_sample_data[words[0]] = array(map(lambda x: float(x), words[1:]))"
     ],
     "language": "python",
     "metadata": {},
     "outputs": [],
     "prompt_number": 40
    },
    {
     "cell_type": "code",
     "collapsed": false,
     "input": [
      "correlations = []\n",
      "for canopy_num, canopy in enumerate(some_random_bjorn_canopies):\n",
      "    \n",
      "    print str(canopy_num) + \": current canopy length: \" + str(len(canopy))\n",
      "\n",
      "    #Calculate Centroid\n",
      "    centroid_list = []\n",
      "    genes = list(canopy)\n",
      "    num_data_samples = len(point_sample_data[genes[0]])\n",
      "    \n",
      "    for i in range(num_data_samples):\n",
      "        column = []\n",
      "        for gene in canopy:\n",
      "            column.append(point_sample_data[gene][i])\n",
      "        column.sort()\n",
      "        mean = column[int(floor(len(canopy)/2))]\n",
      "        centroid_list.append(mean)\n",
      "        \n",
      "    centroid_vec = array(centroid_list)\n",
      "    \n",
      "    #Calculate correlations between points and centroid\n",
      "    for gene in canopy:\n",
      "        gene_vec = point_sample_data[gene]\n",
      "        correlation = pearsonr(gene_vec,centroid_vec)[0]\n",
      "        \n",
      "        correlations.append((gene, correlation, centroid_vec, gene_vec))"
     ],
     "language": "python",
     "metadata": {},
     "outputs": [
      {
       "output_type": "stream",
       "stream": "stdout",
       "text": [
        "0: current canopy length: 6319\n"
       ]
      }
     ],
     "prompt_number": 41
    },
    {
     "cell_type": "code",
     "collapsed": false,
     "input": [
      "#Print lowest correlation found\n",
      "correlations = sorted(correlations, key=lambda x: x[1])\n",
      "min_correlation = correlations[0]\n",
      "\n",
      "print \"gene: \" + min_correlation[0] + \" corr: \" + str(min_correlation[1])\n",
      "\n",
      "centroid_data_samples = []\n",
      "for x in min_correlation[2]:\n",
      "    centroid_data_samples.append(x)\n",
      "    \n",
      "gene_data_samples = []\n",
      "for x in min_correlation[3]:\n",
      "    gene_data_samples.append(x)\n",
      "\n",
      "print \"x <- c(\" + \",\".join(map(lambda x: str(x), centroid_data_samples)) + \")\"\n",
      "print \"y <- c(\" + \",\".join(map(lambda x: str(x), gene_data_samples)) + \")\""
     ],
     "language": "python",
     "metadata": {},
     "outputs": [
      {
       "output_type": "stream",
       "stream": "stdout",
       "text": [
        "gene: MC3.MG321.AS1.GP1.C20752.G3 corr: 0.906111426881\n",
        "x <- c(0.0,0.0,0.0,0.0,0.0,0.0,0.0,0.0,0.0,0.0,0.0,0.0,36.211288743,0.0,0.0,0.0,0.0,0.0,0.0,0.0,0.0,0.0,0.0,0.0,0.0,0.0,0.0,0.0,0.0,0.0,0.0,0.0,0.0,0.0,0.0,0.0,0.0,0.0,0.0,0.0,0.0,0.0,0.0,0.0,0.0,0.0,0.0,0.0,0.0,0.0,0.0,0.0,0.0,0.0,0.0,0.0,0.0,0.0,0.0,0.0,0.0,0.0,0.0,0.0,0.0,0.0,0.0,0.0,0.0,0.0,0.0,0.0,0.0,0.0,0.0,0.0,0.0,0.0,0.0,0.0,0.0,0.0,0.0,0.0,0.0,0.0,0.0,64.6468737797,0.0,0.0,0.0,0.0,0.0,0.0,0.0,0.0,0.0,0.0,0.0,0.0,0.0,0.0,17.2200450365,0.0,0.0,0.0,0.0,0.0,0.0,0.0,0.0,0.0,0.0,0.0,0.0,0.0,18.8984355261,0.0,0.0,0.0,0.0,0.0,94.104827541,0.0,0.0,0.0,0.0,0.0,0.0,0.0,0.0,0.0,0.0,0.0,30.288697533,0.0,0.0,0.0,0.0,0.0,20.7010617033,0.0,0.0,22.4216179976,0.0,0.0,0.0,0.0,0.0,0.0,0.0,0.0,0.0,0.0,0.0,0.0,0.0,0.0,0.0,0.0,0.0,0.0,0.0,0.0,0.0,0.0,0.0,0.0,77.0174383687,0.0,0.0,0.0,0.0,0.0,0.0,0.0,0.0,0.0,0.0,0.0,0.0,0.0,0.0,0.0,0.0,0.0,0.0,0.0,0.0,0.0,0.0,0.0,0.0,0.0,0.0,0.0,0.0,57.3768451557,0.0,0.0,0.0,0.0,0.0,93.1038987657,8.23255020537,0.0,0.0,0.0,0.0,0.0,0.0,0.0,0.0,0.0,0.0,0.0,0.0,0.0,0.0,116.675251825,27.4205228828,0.0,0.0,0.0,0.0,0.0,43.9527014745,0.0,27.1051326406,30.9353161271,0.0,0.0,0.0,0.0,0.0,0.0,0.0,0.0,0.0,0.0,44.2624908158,161.724041899,0.0,0.0,158.062019528,58.9392572583,0.0,0.0,0.0,0.0,14.2810860277,8.75408299708,0.0,0.0,0.0,0.0,8.84189231272,0.0,0.0,0.0,0.0,0.0,0.0,0.0,0.0,0.0,0.0,0.0,0.0,0.0,0.0,0.0,0.0,0.0,0.0,0.0,0.0,0.0,0.0,0.0,0.0,0.0,0.0,8.52134324191,13.3288735181,0.0,0.0,0.0,0.0,0.0,8.25420057533,42.5802851836,0.0,8.19045157031,0.0,0.0,22.118373726,15.3531140998,0.0,0.0,0.0,19.9363573833,0.0,0.0,0.0,0.0,14.0164778026,0.0,0.0,0.0,0.0,46.4868536681,0.0,203.394031911,0.0,35.7025934692,15.326150038,0.0,0.0,2218.11967355,2086.32960808,0.0,0.0,742.969872088,209.392712687,0.0,79.4623067095,0.0,0.0,0.0,0.0,0.0,0.0,0.0,0.0,0.0,0.0,0.0,0.0,0.0,31.9184512644,0.0,0.0,0.0,81.1243642665,0.0,0.0,475.898537703,0.0,0.0,0.0,0.0,0.0,0.0,0.0,0.0,110.108999646,0.0,0.0,0.0,49.5033377194,128.798292539,106.811255905,5.17285926728,39.2730373113,105.31709811,0.0,0.0,0.0,0.0,0.0,0.0,60.8899405889,52.8070526151,106.743932843,0.0,2.55902581628,132.481372767,46.507619056,0.0,0.0,0.0,0.0,0.0,116.709053956,167.641981625,71.2783363865,0.0,0.0,0.0,0.0,0.0,0.0,0.0,0.0,33.6297851139)\n",
        "y <- c(0.0,0.0,0.0,0.0,0.0,0.0,0.0,0.0,0.0,0.0,0.0,0.0,80.5021478564,0.0,0.0,0.0,0.0,0.0,0.0,0.0,0.0,0.0,0.0,0.0,0.0,0.0,0.0,23.6797381005,0.0,0.0,0.0,0.0,0.0,0.0,0.0,0.0,0.0,0.0,0.0,0.0,0.0,0.0,0.0,0.0,0.0,0.0,0.0,0.0,0.0,0.0,0.0,0.0,0.0,0.0,0.0,123.086538516,0.0,0.0,0.0,0.0,0.0,0.0,0.0,0.0,0.0,0.0,0.0,0.0,0.0,0.0,0.0,0.0,0.0,0.0,0.0,0.0,0.0,0.0,0.0,0.0,0.0,0.0,0.0,0.0,0.0,0.0,28.6483484628,93.3038719773,0.0,0.0,0.0,0.0,0.0,0.0,0.0,0.0,0.0,0.0,0.0,0.0,0.0,0.0,0.0,0.0,0.0,0.0,0.0,0.0,0.0,0.0,0.0,0.0,0.0,0.0,0.0,0.0,61.3993249936,0.0,0.0,0.0,0.0,0.0,203.622273128,0.0,0.0,0.0,0.0,0.0,0.0,0.0,0.0,0.0,0.0,0.0,0.0,0.0,0.0,0.0,0.0,0.0,15.7282037165,0.0,0.0,0.0,0.0,16.5268955855,0.0,0.0,16.9093030499,0.0,0.0,0.0,0.0,0.0,0.0,0.0,0.0,0.0,0.0,0.0,0.0,0.0,0.0,0.0,0.0,0.0,0.0,0.0,175.788923122,14.9333983815,0.0,0.0,0.0,0.0,0.0,0.0,0.0,0.0,15.2107579355,0.0,0.0,0.0,0.0,0.0,0.0,0.0,0.0,0.0,0.0,0.0,0.0,0.0,0.0,0.0,0.0,0.0,0.0,0.0,0.0,0.0,0.0,0.0,0.0,31.6275835573,0.0,0.0,0.0,0.0,0.0,0.0,0.0,0.0,0.0,0.0,0.0,0.0,0.0,0.0,0.0,204.58031056,28.2086412366,0.0,0.0,0.0,0.0,0.0,115.007008913,0.0,0.0,0.0,0.0,21.7826139535,0.0,0.0,0.0,31.6345805653,0.0,0.0,0.0,0.0,0.0,289.297076576,0.0,0.0,145.558246663,25.889924293,0.0,0.0,0.0,0.0,44.4841208307,14.4525651164,0.0,0.0,0.0,0.0,42.6480744249,0.0,0.0,0.0,0.0,0.0,75.6025191175,0.0,0.0,0.0,0.0,0.0,0.0,0.0,0.0,0.0,0.0,0.0,0.0,0.0,0.0,0.0,0.0,0.0,0.0,0.0,0.0,28.4541760888,0.0,0.0,0.0,0.0,0.0,0.0,0.0,77.6756444668,0.0,4.40569139169,0.0,0.0,29.6838009041,10.4286215665,0.0,0.0,0.0,118.687648264,0.0,0.0,0.0,0.0,0.0,36.4941617741,0.0,0.0,0.0,45.0938315892,0.0,256.138884165,0.0,95.774368778,43.4933122608,0.0,0.0,2153.19378824,800.648515318,0.0,0.0,1026.70118066,224.030731813,0.0,131.206850384,0.0,0.0,0.0,0.0,0.0,0.0,0.0,0.0,0.0,0.0,0.0,0.0,0.0,117.075980038,0.0,0.0,0.0,91.9822851614,0.0,0.0,472.97719565,0.0,0.0,0.0,0.0,0.0,0.0,0.0,0.0,110.065950261,10.4055278209,0.0,0.0,51.4639067094,180.409790539,123.827954407,0.0,30.2808936332,27.2926196759,0.0,0.0,0.0,31.0370225773,0.0,0.0,0.0,0.0,64.4358797381,0.0,0.0,98.9523601619,82.4648386982,0.0,0.0,0.0,26.0662639324,0.0,147.443917232,178.824154885,108.452455992,0.0,0.0,0.0,0.0,0.0,0.0,0.0,0.0,75.9186444932)\n"
       ]
      }
     ],
     "prompt_number": 42
    },
    {
     "cell_type": "code",
     "collapsed": false,
     "input": [
      "#Show histogram of correlations\n",
      "correlation_values = map(lambda x: x[1], correlations)\n",
      "hist(correlation_values, log=True)"
     ],
     "language": "python",
     "metadata": {},
     "outputs": [
      {
       "output_type": "pyout",
       "prompt_number": 43,
       "text": [
        "(array([  26,   22,   57,  107,  156,  262,  450,  857, 1818, 2564]),\n",
        " array([ 0.90611143,  0.91534717,  0.92458291,  0.93381865,  0.94305439,\n",
        "        0.95229013,  0.96152588,  0.97076162,  0.97999736,  0.9892331 ,\n",
        "        0.99846884]),\n",
        " <a list of 10 Patch objects>)"
       ]
      }
     ],
     "prompt_number": 43
    },
    {
     "cell_type": "code",
     "collapsed": false,
     "input": [],
     "language": "python",
     "metadata": {},
     "outputs": [
      {
       "output_type": "pyout",
       "prompt_number": 106,
       "text": [
        "0.99011297434032308"
       ]
      }
     ],
     "prompt_number": 106
    }
   ],
   "metadata": {}
  }
 ]
}