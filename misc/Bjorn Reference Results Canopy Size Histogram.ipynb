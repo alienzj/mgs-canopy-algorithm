{
 "metadata": {
  "name": "Bjorn Reference Results Canopy Size Histogram"
 },
 "nbformat": 3,
 "nbformat_minor": 0,
 "worksheets": [
  {
   "cells": [
    {
     "cell_type": "code",
     "collapsed": false,
     "input": [
      "import sys\n",
      "from scipy import array\n",
      "from scipy.stats.stats import pearsonr\n",
      "from random import choice\n",
      "import matplotlib.pyplot as plt\n",
      "import matplotlib.mlab as mlab"
     ],
     "language": "python",
     "metadata": {},
     "outputs": [],
     "prompt_number": 1
    },
    {
     "cell_type": "code",
     "collapsed": false,
     "input": [
      "reference_results_file = \"/Users/piotr/Documents/projects/canopy_clustering/data/C2GU_sets.txt\""
     ],
     "language": "python",
     "metadata": {},
     "outputs": [],
     "prompt_number": 2
    },
    {
     "cell_type": "code",
     "collapsed": false,
     "input": [
      "#Import reference results\n",
      "reference_results = {}\n",
      "\n",
      "for line in open(reference_results_file,\"r\").readlines():\n",
      "    words = line.strip().split()\n",
      "    canopy_num = words[0].split(\":\")[1]\n",
      "    gene_id = words[1]\n",
      "    reference_results.setdefault(canopy_num, set()).add(gene_id)\n",
      "    \n",
      "reference_results_arr = []\n",
      "for genes_set in reference_results.itervalues():\n",
      "    reference_results_arr.append(frozenset(genes_set))\n",
      "\n",
      "    "
     ],
     "language": "python",
     "metadata": {},
     "outputs": [],
     "prompt_number": 3
    },
    {
     "cell_type": "code",
     "collapsed": false,
     "input": [
      "reference_results_sizes = map(lambda x: len(x), reference_results_arr)\n",
      "hist(reference_results_sizes,log=True,bins=100)\n"
     ],
     "language": "python",
     "metadata": {},
     "outputs": [
      {
       "output_type": "pyout",
       "prompt_number": 24,
       "text": [
        "(array([5737,  498,  165,   82,   47,   27,   20,   20,   14,   18,   12,\n",
        "         16,   17,   18,   21,   29,   33,   29,   26,   15,   31,   24,\n",
        "         24,   30,   32,   24,   33,   40,   32,   32,   26,   22,   30,\n",
        "         18,   15,   11,   15,    9,   11,    7,    8,   13,    7,    8,\n",
        "          2,    5,    7,    2,    1,    1,    1,    1,    1,    1,    0,\n",
        "          2,    0,    1,    0,    0,    1,    1,    0,    0,    0,    2,\n",
        "          1,    0,    0,    0,    1,    1,    0,    0,    0,    0,    0,\n",
        "          0,    0,    0,    0,    0,    0,    0,    0,    0,    0,    0,\n",
        "          0,    0,    0,    0,    1,    1,    0,    0,    0,    0,    0,\n",
        "          1]),\n",
        " array([  3.00000000e+00,   6.61600000e+01,   1.29320000e+02,\n",
        "         1.92480000e+02,   2.55640000e+02,   3.18800000e+02,\n",
        "         3.81960000e+02,   4.45120000e+02,   5.08280000e+02,\n",
        "         5.71440000e+02,   6.34600000e+02,   6.97760000e+02,\n",
        "         7.60920000e+02,   8.24080000e+02,   8.87240000e+02,\n",
        "         9.50400000e+02,   1.01356000e+03,   1.07672000e+03,\n",
        "         1.13988000e+03,   1.20304000e+03,   1.26620000e+03,\n",
        "         1.32936000e+03,   1.39252000e+03,   1.45568000e+03,\n",
        "         1.51884000e+03,   1.58200000e+03,   1.64516000e+03,\n",
        "         1.70832000e+03,   1.77148000e+03,   1.83464000e+03,\n",
        "         1.89780000e+03,   1.96096000e+03,   2.02412000e+03,\n",
        "         2.08728000e+03,   2.15044000e+03,   2.21360000e+03,\n",
        "         2.27676000e+03,   2.33992000e+03,   2.40308000e+03,\n",
        "         2.46624000e+03,   2.52940000e+03,   2.59256000e+03,\n",
        "         2.65572000e+03,   2.71888000e+03,   2.78204000e+03,\n",
        "         2.84520000e+03,   2.90836000e+03,   2.97152000e+03,\n",
        "         3.03468000e+03,   3.09784000e+03,   3.16100000e+03,\n",
        "         3.22416000e+03,   3.28732000e+03,   3.35048000e+03,\n",
        "         3.41364000e+03,   3.47680000e+03,   3.53996000e+03,\n",
        "         3.60312000e+03,   3.66628000e+03,   3.72944000e+03,\n",
        "         3.79260000e+03,   3.85576000e+03,   3.91892000e+03,\n",
        "         3.98208000e+03,   4.04524000e+03,   4.10840000e+03,\n",
        "         4.17156000e+03,   4.23472000e+03,   4.29788000e+03,\n",
        "         4.36104000e+03,   4.42420000e+03,   4.48736000e+03,\n",
        "         4.55052000e+03,   4.61368000e+03,   4.67684000e+03,\n",
        "         4.74000000e+03,   4.80316000e+03,   4.86632000e+03,\n",
        "         4.92948000e+03,   4.99264000e+03,   5.05580000e+03,\n",
        "         5.11896000e+03,   5.18212000e+03,   5.24528000e+03,\n",
        "         5.30844000e+03,   5.37160000e+03,   5.43476000e+03,\n",
        "         5.49792000e+03,   5.56108000e+03,   5.62424000e+03,\n",
        "         5.68740000e+03,   5.75056000e+03,   5.81372000e+03,\n",
        "         5.87688000e+03,   5.94004000e+03,   6.00320000e+03,\n",
        "         6.06636000e+03,   6.12952000e+03,   6.19268000e+03,\n",
        "         6.25584000e+03,   6.31900000e+03]),\n",
        " <a list of 100 Patch objects>)"
       ]
      }
     ],
     "prompt_number": 24
    },
    {
     "cell_type": "code",
     "collapsed": false,
     "input": [],
     "language": "python",
     "metadata": {},
     "outputs": []
    }
   ],
   "metadata": {}
  }
 ]
}