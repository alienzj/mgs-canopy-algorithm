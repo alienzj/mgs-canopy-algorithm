{
 "metadata": {
  "name": "Generate testing data"
 },
 "nbformat": 3,
 "nbformat_minor": 0,
 "worksheets": [
  {
   "cells": [
    {
     "cell_type": "code",
     "collapsed": false,
     "input": [
      "from random import choice"
     ],
     "language": "python",
     "metadata": {},
     "outputs": [],
     "prompt_number": 3
    },
    {
     "cell_type": "code",
     "collapsed": false,
     "input": [
      "reference_results_file = \"/Users/piotr/Documents/projects/canopy_clustering/data/C2GU_sets.txt\"\n",
      "point_description_file = \"/Users/piotr/Documents/projects/canopy_clustering/data/MetaHIT663.RefGeneCat396.basecov_v2\"\n",
      "reduced_point_description_file = \"/Users/piotr/Documents/projects/canopy_clustering/data/smaller_point_file\""
     ],
     "language": "python",
     "metadata": {},
     "outputs": [],
     "prompt_number": 9
    },
    {
     "cell_type": "code",
     "collapsed": false,
     "input": [
      "#Import reference results\n",
      "reference_results = {}\n",
      "\n",
      "for line in open(reference_results_file,\"r\").readlines():\n",
      "    words = line.strip().split()\n",
      "    canopy_num = words[0].split(\":\")[1]\n",
      "    gene_id = words[1]\n",
      "    reference_results.setdefault(canopy_num, set()).add(gene_id)\n",
      "    \n",
      "reference_results = list(reference_results.itervalues())"
     ],
     "language": "python",
     "metadata": {},
     "outputs": [],
     "prompt_number": 19
    },
    {
     "cell_type": "code",
     "collapsed": false,
     "input": [
      "#Pick a few canopies at random \n",
      "reference_sets = []\n",
      "genes_from_reference_sets = set()\n",
      "for i in range(100):\n",
      "    reference_sets.append(choice(reference_results))\n",
      "\n",
      "for ref_set in reference_sets:\n",
      "    genes_from_reference_sets.update(ref_set)\n",
      "    \n",
      "    "
     ],
     "language": "python",
     "metadata": {},
     "outputs": [],
     "prompt_number": 22
    },
    {
     "cell_type": "code",
     "collapsed": false,
     "input": [
      "output_file = open(reduced_point_description_file, \"w\")\n",
      "\n",
      "#Read point input file\n",
      "for line in open(point_description_file,\"r\").readlines()[1:]:\n",
      "    gene_name = line.split(\"\\t\",1)[0]\n",
      "    if gene_name in genes_from_reference_sets:\n",
      "        output_file.write(line)\n",
      "        \n",
      "        \n",
      "output_file.close()"
     ],
     "language": "python",
     "metadata": {},
     "outputs": [],
     "prompt_number": 30
    }
   ],
   "metadata": {}
  }
 ]
}