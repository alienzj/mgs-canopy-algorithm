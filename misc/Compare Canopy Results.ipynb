{
 "metadata": {
  "name": "Compare Canopy Results"
 },
 "nbformat": 3,
 "nbformat_minor": 0,
 "worksheets": [
  {
   "cells": [
    {
     "cell_type": "code",
     "collapsed": false,
     "input": [
      "import sys\n",
      "import scipy.stats "
     ],
     "language": "python",
     "metadata": {},
     "outputs": [],
     "prompt_number": 8
    },
    {
     "cell_type": "code",
     "collapsed": false,
     "input": [
      "reference_results_file = \"/Users/piotr/Documents/projects/canopy_clustering/data/C2GU_sets.txt\"\n",
      "observed_results_file = \"/Users/piotr/Documents/projects/canopy_clustering/data/0001_out\""
     ],
     "language": "python",
     "metadata": {},
     "outputs": [],
     "prompt_number": 11
    },
    {
     "cell_type": "code",
     "collapsed": false,
     "input": [
      "#Import reference results\n",
      "reference_results = {}\n",
      "\n",
      "for line in open(reference_results_file,\"r\").readlines():\n",
      "    words = line.strip().split()\n",
      "    canopy_num = words[0].split(\":\")[1]\n",
      "    gene_id = words[1]\n",
      "    reference_results.setdefault(canopy_num, set()).add(gene_id)"
     ],
     "language": "python",
     "metadata": {},
     "outputs": [],
     "prompt_number": 37
    },
    {
     "cell_type": "code",
     "collapsed": false,
     "input": [
      "#import observed results\n",
      "observed_results = []\n",
      "\n",
      "for line in open(observed_results_file,\"r\").readlines():\n",
      "    genes = line.strip().lstrip('canopy: ').rstrip(\",\").split(\", \")\n",
      "    gene_ids = set(genes) \n",
      "    observed_results.append(gene_ids)"
     ],
     "language": "python",
     "metadata": {},
     "outputs": [],
     "prompt_number": 38
    },
    {
     "cell_type": "code",
     "collapsed": false,
     "input": [
      "#Change into a list, sort by size\n",
      "reference_results = list(reference_results.itervalues())\n",
      "reference_results.sort(key=lambda x: len(x))\n",
      "\n",
      "#Change into a list, sort by size\n",
      "observed_results.sort(key=lambda x: len(x))"
     ],
     "language": "python",
     "metadata": {},
     "outputs": [],
     "prompt_number": 39
    },
    {
     "cell_type": "code",
     "collapsed": false,
     "input": [],
     "language": "python",
     "metadata": {},
     "outputs": [],
     "prompt_number": 41
    },
    {
     "cell_type": "code",
     "collapsed": false,
     "input": [
      "def calc_jaccard_corr(set1, set2):\n",
      "    return (len(set1 & set2) * 1.0/len(set1 | set2))*100"
     ],
     "language": "python",
     "metadata": {},
     "outputs": [],
     "prompt_number": 56
    },
    {
     "cell_type": "code",
     "collapsed": false,
     "input": [
      "jaccard_results = []\n",
      "\n",
      "for obs_result in observed_results:\n",
      "    highest_jaccard_corr = 0\n",
      "    highest_jaccard_refset = set()\n",
      "    for ref_result in reference_results:\n",
      "        jaccard_corr = (len(ref_result & obs_result) * 1.0/len(obs_result | ref_result))*100\n",
      "        if jaccard_corr > highest_jaccard_corr:\n",
      "            highest_jaccard_corr = jaccard_corr\n",
      "            highest_jaccard_refset = ref_result\n",
      "            \n",
      "    jaccard_results.append((obs_result, highest_jaccard_refset, highest_jaccard_corr))\n"
     ],
     "language": "python",
     "metadata": {},
     "outputs": [],
     "prompt_number": 55
    },
    {
     "cell_type": "code",
     "collapsed": false,
     "input": [
      "min(map(lambda x: x[2], jaccard_results))"
     ],
     "language": "python",
     "metadata": {},
     "outputs": [
      {
       "output_type": "pyout",
       "prompt_number": 65,
       "text": [
        "0"
       ]
      }
     ],
     "prompt_number": 65
    },
    {
     "cell_type": "code",
     "collapsed": false,
     "input": [],
     "language": "python",
     "metadata": {},
     "outputs": []
    }
   ],
   "metadata": {}
  }
 ]
}