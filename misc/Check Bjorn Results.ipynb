{
 "metadata": {
  "name": "Check Bjorn Results"
 },
 "nbformat": 3,
 "nbformat_minor": 0,
 "worksheets": [
  {
   "cells": [
    {
     "cell_type": "code",
     "collapsed": false,
     "input": [
      "import sys\n",
      "from scipy import array\n",
      "from scipy.stats.stats import pearsonr\n",
      "from random import choice"
     ],
     "language": "python",
     "metadata": {},
     "outputs": [],
     "prompt_number": 2
    },
    {
     "cell_type": "code",
     "collapsed": false,
     "input": [
      "reference_results_file = \"/Users/piotr/Documents/projects/canopy_clustering/data/C2GU_sets.txt\"\n",
      "points_file = \"/Users/piotr/Documents/projects/canopy_clustering/data/MetaHIT663.RefGeneCat396.basecov_v2\""
     ],
     "language": "python",
     "metadata": {},
     "outputs": [],
     "prompt_number": 3
    },
    {
     "cell_type": "code",
     "collapsed": false,
     "input": [
      "#Import reference results\n",
      "reference_results = {}\n",
      "\n",
      "for line in open(reference_results_file,\"r\").readlines():\n",
      "    words = line.strip().split()\n",
      "    canopy_num = words[0].split(\":\")[1]\n",
      "    gene_id = words[1]\n",
      "    reference_results.setdefault(canopy_num, set()).add(gene_id)\n",
      "    \n",
      "reference_results_arr = []\n",
      "for genes_set in reference_results.itervalues():\n",
      "    reference_results_arr.append(frozenset(genes_set))\n",
      "    \n",
      "some_random_bjorn_canopies = set()\n",
      "for x in range(100):\n",
      "    some_random_bjorn_canopies.add(choice(reference_results_arr))\n",
      "    \n",
      "genes_from_some_random_bjorn_canopies = set()\n",
      "for canopy in some_random_bjorn_canopies:\n",
      "    for gene in canopy:\n",
      "        genes_from_some_random_bjorn_canopies.add(gene)\n",
      "    "
     ],
     "language": "python",
     "metadata": {},
     "outputs": [],
     "prompt_number": 4
    },
    {
     "cell_type": "code",
     "collapsed": false,
     "input": [
      "#Read point sample data\n",
      "point_sample_data = {}\n",
      "\n",
      "for line in open(points_file,\"r\"):\n",
      "    words = line.strip().split()\n",
      "    if words[0] in genes_from_some_random_bjorn_canopies:\n",
      "        point_sample_data[words[0]] = array(map(lambda x: float(x), words[1:]))"
     ],
     "language": "python",
     "metadata": {},
     "outputs": [],
     "prompt_number": 5
    },
    {
     "cell_type": "code",
     "collapsed": false,
     "input": [
      "min_correlations = []\n",
      "i = 0\n",
      "for canopy in some_random_bjorn_canopies:\n",
      "    if i > 9:\n",
      "        break\n",
      "    i+=1\n",
      "    print str(i) + \": new c: \" + str(len(canopy))\n",
      "    min_correlation = 1\n",
      "    for gene_1 in canopy:\n",
      "        vec_1 = point_sample_data[gene_1]\n",
      "        for gene_2 in canopy:\n",
      "            if gene_1 < gene_2:\n",
      "                vec_2 = point_sample_data[gene_2]\n",
      "                correlation = pearsonr(vec_1,vec_2)[0]\n",
      "                min_correlation = correlation if correlation < min_correlation else min_correlation\n",
      "    min_correlations.append(min_correlation)   \n"
     ],
     "language": "python",
     "metadata": {},
     "outputs": [
      {
       "output_type": "stream",
       "stream": "stdout",
       "text": [
        "1: new c: 10\n",
        "2: new c: 15\n",
        "3: new c: 7\n",
        "4: new c: 47\n",
        "5: new c: 31"
       ]
      },
      {
       "output_type": "stream",
       "stream": "stdout",
       "text": [
        "\n",
        "6: new c: 1493\n",
        "7: new c: 56"
       ]
      },
      {
       "output_type": "stream",
       "stream": "stdout",
       "text": [
        "\n",
        "8: new c: 15"
       ]
      },
      {
       "output_type": "stream",
       "stream": "stdout",
       "text": [
        "\n",
        "9: new c: 46\n",
        "10: new c: 30"
       ]
      },
      {
       "output_type": "stream",
       "stream": "stdout",
       "text": [
        "\n"
       ]
      }
     ],
     "prompt_number": 17
    },
    {
     "cell_type": "code",
     "collapsed": false,
     "input": [
      "min_correlations"
     ],
     "language": "python",
     "metadata": {},
     "outputs": [
      {
       "output_type": "pyout",
       "prompt_number": 18,
       "text": [
        "[0.30242038509848856,\n",
        " 0.90551992131753423,\n",
        " 0.77090258517736565,\n",
        " 0.48889672256050498,\n",
        " 0.59240128291229177,\n",
        " 0.34333170333423624,\n",
        " 0.42780086862412953,\n",
        " 0.86885095338025875,\n",
        " 0.26793510765373013,\n",
        " 0.44205984692754313]"
       ]
      }
     ],
     "prompt_number": 18
    },
    {
     "cell_type": "code",
     "collapsed": false,
     "input": [],
     "language": "python",
     "metadata": {},
     "outputs": []
    }
   ],
   "metadata": {}
  }
 ]
}